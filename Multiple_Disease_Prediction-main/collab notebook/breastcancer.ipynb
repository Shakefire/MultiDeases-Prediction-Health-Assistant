{
 "cells": [
  {
   "cell_type": "code",
   "execution_count": 2,
   "id": "a401562f-4a85-40e9-80bd-21ccba15944b",
   "metadata": {},
   "outputs": [
    {
     "name": "stdout",
     "output_type": "stream",
     "text": [
      "Test Accuracy: 0.9474\n"
     ]
    }
   ],
   "source": [
    "# Cancer Prediction Training Notebook\n",
    "\n",
    "# Step 1: Import Libraries\n",
    "import pandas as pd\n",
    "import numpy as np\n",
    "from sklearn.model_selection import train_test_split\n",
    "from sklearn.preprocessing import StandardScaler\n",
    "from sklearn.pipeline import Pipeline\n",
    "from sklearn.linear_model import LogisticRegression\n",
    "import pickle\n",
    "\n",
    "# Step 2: Load Dataset\n",
    "df = pd.read_csv('cancer.csv')\n",
    "\n",
    "# Step 3: Select Features and Target\n",
    "selected_features = [\n",
    "    'radius_mean', 'texture_mean', 'perimeter_mean', 'area_mean',\n",
    "    'smoothness_mean', 'compactness_mean', 'concavity_mean', 'concave points_mean'\n",
    "]\n",
    "X = df[selected_features]\n",
    "y = df['diagnosis']\n",
    "\n",
    "# Encode the target: M -> 1, B -> 0\n",
    "y = y.map({'M': 1, 'B': 0})\n",
    "\n",
    "# Step 4: Split into Train and Test\n",
    "X_train, X_test, y_train, y_test = train_test_split(X, y, test_size=0.2, random_state=42)\n",
    "\n",
    "# Step 5: Create a Pipeline (Scaler + Classifier)\n",
    "model_pipeline = Pipeline([\n",
    "    ('scaler', StandardScaler()),\n",
    "    ('classifier', LogisticRegression(random_state=42))\n",
    "])\n",
    "\n",
    "# Step 6: Train the Model\n",
    "model_pipeline.fit(X_train, y_train)\n",
    "\n",
    "# Step 7: Evaluate Model\n",
    "accuracy = model_pipeline.score(X_test, y_test)\n",
    "print(f\"Test Accuracy: {accuracy:.4f}\")\n",
    "\n",
    "# Step 8: Save Model using Pickle\n",
    "import pickle\n",
    "pickle.dump(model_pipeline, open('Breastcancer.pkl', 'wb'))\n",
    "\n"
   ]
  },
  {
   "cell_type": "code",
   "execution_count": 5,
   "id": "8d05ac8e-4fe8-4e41-9dbc-03eb8a7a9868",
   "metadata": {},
   "outputs": [
    {
     "name": "stdout",
     "output_type": "stream",
     "text": [
      "['radius_mean', 'texture_mean', 'perimeter_mean', 'area_mean', 'smoothness_mean', 'compactness_mean', 'concavity_mean', 'concave points_mean']\n"
     ]
    }
   ],
   "source": [
    "print(selected_features)"
   ]
  },
  {
   "cell_type": "code",
   "execution_count": null,
   "id": "3c74cf10-0f56-4ad5-a455-d882c63e4d75",
   "metadata": {},
   "outputs": [],
   "source": [
    "rom sklearn.tree import DecisionTreeClassifier\n",
    "model_3 = DecisionTreeClassifier()"
   ]
  },
  {
   "cell_type": "code",
   "execution_count": 3,
   "id": "9d36c1c2-0124-4aa3-93f2-3dd406a66ce5",
   "metadata": {},
   "outputs": [
    {
     "name": "stdout",
     "output_type": "stream",
     "text": [
      "Test Accuracy: 0.9211\n"
     ]
    }
   ],
   "source": [
    "# Cancer Prediction Training Notebook\n",
    "\n",
    "# Step 1: Import Libraries\n",
    "import pandas as pd\n",
    "import numpy as np\n",
    "from sklearn.model_selection import train_test_split\n",
    "from sklearn.preprocessing import StandardScaler\n",
    "from sklearn.pipeline import Pipeline\n",
    "from sklearn.tree import DecisionTreeClassifier\n",
    "import pickle\n",
    "\n",
    "# Step 2: Load Dataset\n",
    "df = pd.read_csv('cancer.csv')\n",
    "\n",
    "# Step 3: Select Features and Target\n",
    "selected_features = [\n",
    "    'radius_mean', 'texture_mean', 'perimeter_mean', 'area_mean',\n",
    "    'smoothness_mean', 'compactness_mean', 'concavity_mean', 'concave points_mean'\n",
    "]\n",
    "X = df[selected_features]\n",
    "y = df['diagnosis']\n",
    "\n",
    "# Encode the target: M -> 1, B -> 0\n",
    "y = y.map({'M': 1, 'B': 0})\n",
    "\n",
    "# Step 4: Split into Train and Test\n",
    "X_train, X_test, y_train, y_test = train_test_split(X, y, test_size=0.2, random_state=42)\n",
    "\n",
    "# Step 5: Create a Pipeline (Scaler + Classifier)\n",
    "model_pipeline = Pipeline([\n",
    "    ('scaler', StandardScaler()),\n",
    "    ('classifier', DecisionTreeClassifier())\n",
    "])\n",
    "\n",
    "# Step 6: Train the Model\n",
    "model_pipeline.fit(X_train, y_train)\n",
    "\n",
    "# Step 7: Evaluate Model\n",
    "accuracy = model_pipeline.score(X_test, y_test)\n",
    "print(f\"Test Accuracy: {accuracy:.4f}\")\n",
    "\n",
    "# Step 8: Save Model using Pickle\n",
    "import pickle\n",
    "pickle.dump(model_pipeline, open('Breastcancer.pkl', 'wb'))\n",
    "\n"
   ]
  },
  {
   "cell_type": "code",
   "execution_count": null,
   "id": "29a5ca59-6b8d-4612-85f0-17b724bba0b0",
   "metadata": {},
   "outputs": [],
   "source": []
  }
 ],
 "metadata": {
  "kernelspec": {
   "display_name": "Python 3 (ipykernel)",
   "language": "python",
   "name": "python3"
  },
  "language_info": {
   "codemirror_mode": {
    "name": "ipython",
    "version": 3
   },
   "file_extension": ".py",
   "mimetype": "text/x-python",
   "name": "python",
   "nbconvert_exporter": "python",
   "pygments_lexer": "ipython3",
   "version": "3.12.5"
  }
 },
 "nbformat": 4,
 "nbformat_minor": 5
}
